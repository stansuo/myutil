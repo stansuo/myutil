{
 "cells": [
  {
   "cell_type": "markdown",
   "metadata": {},
   "source": [
    "# Download Youtube Video Using Python"
   ]
  },
  {
   "cell_type": "markdown",
   "metadata": {},
   "source": [
    "## Reference\n",
    "- [pytube3-doc](https://python-pytube.readthedocs.io/en/latest/)"
   ]
  },
  {
   "cell_type": "markdown",
   "metadata": {},
   "source": [
    "---"
   ]
  },
  {
   "cell_type": "code",
   "execution_count": 1,
   "metadata": {},
   "outputs": [
    {
     "name": "stdout",
     "output_type": "stream",
     "text": [
      "Collecting pytube3\n",
      "  Downloading pytube3-9.6.4-py3-none-any.whl (38 kB)\n",
      "Collecting typing-extensions\n",
      "  Downloading typing_extensions-3.7.4.2-py3-none-any.whl (22 kB)\n",
      "Installing collected packages: typing-extensions, pytube3\n",
      "Successfully installed pytube3-9.6.4 typing-extensions-3.7.4.2\n"
     ]
    }
   ],
   "source": [
    "! pip install pytube3"
   ]
  },
  {
   "cell_type": "code",
   "execution_count": 2,
   "metadata": {},
   "outputs": [],
   "source": [
    "from pytube import YouTube"
   ]
  },
  {
   "cell_type": "code",
   "execution_count": 3,
   "metadata": {},
   "outputs": [],
   "source": [
    "video_names = [\n",
    "    '5/18 證照衝刺班',\n",
    "    '5/13 第一場 Fast Pass Training',\n",
    "    '6/03 第二場 Fast Pass Training',\n",
    "    '7/08 第三場 Fast Pass Training',\n",
    "]"
   ]
  },
  {
   "cell_type": "code",
   "execution_count": 4,
   "metadata": {},
   "outputs": [],
   "source": [
    "youtube_links = [\n",
    "    'http://d.uppmkt.com/kplw2tk/',\n",
    "    'http://d.uppmkt.com/klpc1/',\n",
    "    'http://d.uppmkt.com/klpc2/'\n",
    "    'http://d.uppmkt.com/klpc3/'\n",
    "]"
   ]
  },
  {
   "cell_type": "code",
   "execution_count": null,
   "metadata": {},
   "outputs": [],
   "source": []
  }
 ],
 "metadata": {
  "kernelspec": {
   "display_name": "Python 3",
   "language": "python",
   "name": "python3"
  },
  "language_info": {
   "codemirror_mode": {
    "name": "ipython",
    "version": 3
   },
   "file_extension": ".py",
   "mimetype": "text/x-python",
   "name": "python",
   "nbconvert_exporter": "python",
   "pygments_lexer": "ipython3",
   "version": "3.8.2"
  }
 },
 "nbformat": 4,
 "nbformat_minor": 4
}
