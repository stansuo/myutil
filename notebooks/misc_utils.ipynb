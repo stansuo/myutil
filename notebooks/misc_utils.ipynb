{
 "cells": [
  {
   "cell_type": "markdown",
   "metadata": {},
   "source": [
    "# Misc utils"
   ]
  },
  {
   "cell_type": "markdown",
   "metadata": {},
   "source": [
    "## Requests related"
   ]
  },
  {
   "cell_type": "code",
   "execution_count": null,
   "metadata": {},
   "outputs": [],
   "source": [
    "import requests\n",
    "\n",
    "def get_rhymes(word):\n",
    "    baseurl = \"https://api.datamuse.com/words\"\n",
    "    params_diction = {} # Set up an empty dictionary for query parameters\n",
    "    params_diction[\"rel_rhy\"] = word\n",
    "    params_diction[\"max\"] = \"3\" # get at most 3 results\n",
    "    resp = requests.get(baseurl, params=params_diction)\n",
    "    # return the top three words\n",
    "    word_ds = resp.json()\n",
    "    return [d['word'] for d in word_ds]\n",
    "    return resp.json() # Return a python object (a list of dictionaries in this case)\n",
    "\n",
    "print(get_rhymes(\"funny\"))"
   ]
  },
  {
   "cell_type": "code",
   "execution_count": null,
   "metadata": {},
   "outputs": [],
   "source": [
    "import requests\n",
    "def requestURL(baseurl, params = {}):\n",
    "    # This function accepts a URL path and a params diction as inputs.\n",
    "    # It calls requests.get() with those inputs,\n",
    "    # and returns the full URL of the data you want to get.\n",
    "    req = requests.Request(method = 'GET', url = baseurl, params = params)\n",
    "    prepped = req.prepare()\n",
    "    return prepped.url\n",
    "\n",
    "print(requestURL(some_base_url, some_params_dictionary))"
   ]
  },
  {
   "cell_type": "code",
   "execution_count": null,
   "metadata": {},
   "outputs": [],
   "source": [
    "import requests\n",
    "dest_url = <some expr>\n",
    "d = <some dictionary>\n",
    "resp = requests.get(dest_url, params = d)\n",
    "print(resp.url)\n",
    "print(resp.text[:200])"
   ]
  },
  {
   "cell_type": "code",
   "execution_count": null,
   "metadata": {},
   "outputs": [],
   "source": []
  },
  {
   "cell_type": "code",
   "execution_count": null,
   "metadata": {},
   "outputs": [],
   "source": []
  },
  {
   "cell_type": "code",
   "execution_count": null,
   "metadata": {},
   "outputs": [],
   "source": [
    "# Implementation of the requests_with_caching module\n",
    "import requests\n",
    "import json\n",
    "\n",
    "PERMANENT_CACHE_FNAME = \"permanent_cache.txt\"\n",
    "TEMP_CACHE_FNAME = \"this_page_cache.txt\"\n",
    "\n",
    "def _write_to_file(cache, fname):\n",
    "    with open(fname, 'w') as outfile:\n",
    "        outfile.write(json.dumps(cache, indent=2))\n",
    "\n",
    "def _read_from_file(fname):\n",
    "    try:\n",
    "        with open(fname, 'r') as infile:\n",
    "            res = infile.read()\n",
    "            return json.loads(res)\n",
    "    except:\n",
    "        return {}\n",
    "\n",
    "def add_to_cache(cache_file, cache_key, cache_value):\n",
    "    temp_cache = _read_from_file(cache_file)\n",
    "    temp_cache[cache_key] = cache_value\n",
    "    _write_to_file(temp_cache, cache_file)\n",
    "\n",
    "def clear_cache(cache_file=TEMP_CACHE_FNAME):\n",
    "    _write_to_file({}, cache_file)\n",
    "\n",
    "def make_cache_key(baseurl, params_d, private_keys=[\"api_key\"]):\n",
    "    \"\"\"Makes a long string representing the query.\n",
    "    Alphabetize the keys from the params dictionary so we get the same order each time.\n",
    "    Omit keys with private info.\"\"\"\n",
    "    alphabetized_keys = sorted(params_d.keys())\n",
    "    res = []\n",
    "    for k in alphabetized_keys:\n",
    "        if k not in private_keys:\n",
    "            res.append(\"{}-{}\".format(k, params_d[k]))\n",
    "    return baseurl + \"_\".join(res)\n",
    "\n",
    "def get(baseurl, params={}, private_keys_to_ignore=[\"api_key\"], permanent_cache_file=PERMANENT_CACHE_FNAME, temp_cache_file=TEMP_CACHE_FNAME):\n",
    "    full_url = requests.requestURL(baseurl, params)\n",
    "    cache_key = make_cache_key(baseurl, params, private_keys_to_ignore)\n",
    "    # Load the permanent and page-specific caches from files\n",
    "    permanent_cache = _read_from_file(permanent_cache_file)\n",
    "    temp_cache = _read_from_file(temp_cache_file)\n",
    "    if cache_key in temp_cache:\n",
    "        print(\"found in temp_cache\")\n",
    "        # make a Response object containing text from the change, and the full_url that would have been fetched\n",
    "        return requests.Response(temp_cache[cache_key], full_url)\n",
    "    elif cache_key in permanent_cache:\n",
    "        print(\"found in permanent_cache\")\n",
    "        # make a Response object containing text from the change, and the full_url that would have been fetched\n",
    "        return requests.Response(permanent_cache[cache_key], full_url)\n",
    "    else:\n",
    "        print(\"new; adding to cache\")\n",
    "        # actually request it\n",
    "        resp = requests.get(baseurl, params)\n",
    "        # save it\n",
    "        add_to_cache(temp_cache_file, cache_key, resp.text)\n",
    "        return resp"
   ]
  },
  {
   "cell_type": "markdown",
   "metadata": {},
   "source": [
    "### Searching for Media on iTunes"
   ]
  },
  {
   "cell_type": "code",
   "execution_count": 1,
   "metadata": {},
   "outputs": [
    {
     "ename": "ModuleNotFoundError",
     "evalue": "No module named 'requests_with_caching'",
     "output_type": "error",
     "traceback": [
      "\u001b[1;31m---------------------------------------------------------------------------\u001b[0m",
      "\u001b[1;31mModuleNotFoundError\u001b[0m                       Traceback (most recent call last)",
      "\u001b[1;32m<ipython-input-1-e1f9d33783bc>\u001b[0m in \u001b[0;36m<module>\u001b[1;34m\u001b[0m\n\u001b[1;32m----> 1\u001b[1;33m \u001b[1;32mimport\u001b[0m \u001b[0mrequests_with_caching\u001b[0m\u001b[1;33m\u001b[0m\u001b[1;33m\u001b[0m\u001b[0m\n\u001b[0m\u001b[0;32m      2\u001b[0m \u001b[1;32mimport\u001b[0m \u001b[0mjson\u001b[0m\u001b[1;33m\u001b[0m\u001b[1;33m\u001b[0m\u001b[0m\n\u001b[0;32m      3\u001b[0m \u001b[1;33m\u001b[0m\u001b[0m\n\u001b[0;32m      4\u001b[0m \u001b[0mparameters\u001b[0m \u001b[1;33m=\u001b[0m \u001b[1;33m{\u001b[0m\u001b[1;34m\"term\"\u001b[0m\u001b[1;33m:\u001b[0m \u001b[1;34m\"Ann Arbor\"\u001b[0m\u001b[1;33m,\u001b[0m \u001b[1;34m\"entity\"\u001b[0m\u001b[1;33m:\u001b[0m \u001b[1;34m\"podcast\"\u001b[0m\u001b[1;33m}\u001b[0m\u001b[1;33m\u001b[0m\u001b[1;33m\u001b[0m\u001b[0m\n\u001b[0;32m      5\u001b[0m \u001b[0miTunes_response\u001b[0m \u001b[1;33m=\u001b[0m \u001b[0mrequests_with_caching\u001b[0m\u001b[1;33m.\u001b[0m\u001b[0mget\u001b[0m\u001b[1;33m(\u001b[0m\u001b[1;34m\"https://itunes.apple.com/search\"\u001b[0m\u001b[1;33m,\u001b[0m \u001b[0mparams\u001b[0m \u001b[1;33m=\u001b[0m \u001b[0mparameters\u001b[0m\u001b[1;33m,\u001b[0m \u001b[0mpermanent_cache_file\u001b[0m\u001b[1;33m=\u001b[0m\u001b[1;34m\"itunes_cache.txt\"\u001b[0m\u001b[1;33m)\u001b[0m\u001b[1;33m\u001b[0m\u001b[1;33m\u001b[0m\u001b[0m\n",
      "\u001b[1;31mModuleNotFoundError\u001b[0m: No module named 'requests_with_caching'"
     ]
    }
   ],
   "source": [
    "import requests_with_caching\n",
    "import json\n",
    "\n",
    "parameters = {\"term\": \"Ann Arbor\", \"entity\": \"podcast\"}\n",
    "iTunes_response = requests_with_caching.get(\"https://itunes.apple.com/search\", params = parameters, permanent_cache_file=\"itunes_cache.txt\")\n",
    "\n",
    "py_data = json.loads(iTunes_response.text)\n",
    "for r in py_data['results']:\n",
    "    print(r['trackName'])\n"
   ]
  },
  {
   "cell_type": "markdown",
   "metadata": {},
   "source": [
    "### Searching for tags on flickr"
   ]
  },
  {
   "cell_type": "code",
   "execution_count": null,
   "metadata": {},
   "outputs": [],
   "source": [
    "# import statements\n",
    "import requests_with_caching\n",
    "import json\n",
    "# import webbrowser\n",
    "\n",
    "# apply for a flickr authentication key at http://www.flickr.com/services/apps/create/apply/?\n",
    "# paste the key (not the secret) as the value of the variable flickr_key\n",
    "flickr_key = 'yourkeyhere'\n",
    "\n",
    "def get_flickr_data(tags_string):\n",
    "    baseurl = \"https://api.flickr.com/services/rest/\"\n",
    "    params_diction = {}\n",
    "    params_diction[\"api_key\"] = flickr_key # from the above global variable\n",
    "    params_diction[\"tags\"] = tags_string # must be a comma separated string to work correctly\n",
    "    params_diction[\"tag_mode\"] = \"all\"\n",
    "    params_diction[\"method\"] = \"flickr.photos.search\"\n",
    "    params_diction[\"per_page\"] = 5\n",
    "    params_diction[\"media\"] = \"photos\"\n",
    "    params_diction[\"format\"] = \"json\"\n",
    "    params_diction[\"nojsoncallback\"] = 1\n",
    "    flickr_resp = requests_with_caching.get(baseurl, params = params_diction, permanent_cache_file=\"flickr_cache.txt\")\n",
    "    # Useful for debugging: print the url! Uncomment the below line to do so.\n",
    "    print(flickr_resp.url) # Paste the result into the browser to check it out...\n",
    "    return flickr_resp.json()\n",
    "\n",
    "result_river_mts = get_flickr_data(\"river,mountains\")\n",
    "\n",
    "# Some code to open up a few photos that are tagged with the mountains and river tags...\n",
    "\n",
    "photos = result_river_mts['photos']['photo']\n",
    "for photo in photos:\n",
    "    owner = photo['owner']\n",
    "    photo_id = photo['id']\n",
    "    url = 'https://www.flickr.com/photos/{}/{}'.format(owner, photo_id)\n",
    "    print(url)\n",
    "    # webbrowser.open(url)\n"
   ]
  }
 ],
 "metadata": {
  "kernelspec": {
   "display_name": "Python 3",
   "language": "python",
   "name": "python3"
  },
  "language_info": {
   "codemirror_mode": {
    "name": "ipython",
    "version": 3
   },
   "file_extension": ".py",
   "mimetype": "text/x-python",
   "name": "python",
   "nbconvert_exporter": "python",
   "pygments_lexer": "ipython3",
   "version": "3.8.1"
  }
 },
 "nbformat": 4,
 "nbformat_minor": 4
}
