{
 "cells": [
  {
   "cell_type": "markdown",
   "metadata": {},
   "source": [
    "# Download Youtube Video Using Python"
   ]
  },
  {
   "cell_type": "markdown",
   "metadata": {},
   "source": [
    "---"
   ]
  },
  {
   "cell_type": "code",
   "execution_count": 28,
   "metadata": {},
   "outputs": [],
   "source": [
    "# ! pip install pytube3"
   ]
  },
  {
   "cell_type": "code",
   "execution_count": 29,
   "metadata": {},
   "outputs": [
    {
     "name": "stdout",
     "output_type": "stream",
     "text": [
      "Google Ads 認證衝刺班｜數位人才探索計劃\n",
      "stream 0: <Stream: itag=\"18\" mime_type=\"video/mp4\" res=\"360p\" fps=\"30fps\" vcodec=\"avc1.42001E\" acodec=\"mp4a.40.2\" progressive=\"True\" type=\"video\">\n",
      "stream 1: <Stream: itag=\"22\" mime_type=\"video/mp4\" res=\"720p\" fps=\"30fps\" vcodec=\"avc1.64001F\" acodec=\"mp4a.40.2\" progressive=\"True\" type=\"video\">\n",
      "Downloading.............Google Ads 認證衝刺班｜數位人才探索計劃\n",
      "Successfully downloaded Google Ads 認證衝刺班｜數位人才探索計劃 \n",
      "\n",
      "Google 數位人才探索計劃｜Fast Pass Training｜5/13 場次\n",
      "stream 0: <Stream: itag=\"18\" mime_type=\"video/mp4\" res=\"360p\" fps=\"30fps\" vcodec=\"avc1.42001E\" acodec=\"mp4a.40.2\" progressive=\"True\" type=\"video\">\n",
      "stream 1: <Stream: itag=\"22\" mime_type=\"video/mp4\" res=\"720p\" fps=\"30fps\" vcodec=\"avc1.64001F\" acodec=\"mp4a.40.2\" progressive=\"True\" type=\"video\">\n",
      "Downloading.............Google 數位人才探索計劃｜Fast Pass Training｜5/13 場次\n",
      "Successfully downloaded Google 數位人才探索計劃｜Fast Pass Training｜5/13 場次 \n",
      "\n",
      "Google 數位人才探索計劃｜Fast Pass Training｜6/03 場次\n",
      "stream 0: <Stream: itag=\"18\" mime_type=\"video/mp4\" res=\"360p\" fps=\"30fps\" vcodec=\"avc1.42001E\" acodec=\"mp4a.40.2\" progressive=\"True\" type=\"video\">\n",
      "stream 1: <Stream: itag=\"22\" mime_type=\"video/mp4\" res=\"720p\" fps=\"30fps\" vcodec=\"avc1.64001F\" acodec=\"mp4a.40.2\" progressive=\"True\" type=\"video\">\n",
      "Downloading.............Google 數位人才探索計劃｜Fast Pass Training｜6/03 場次\n",
      "Successfully downloaded Google 數位人才探索計劃｜Fast Pass Training｜6/03 場次 \n",
      "\n",
      "數位人才探索計劃 Fast Pass Training｜7/08 場次\n",
      "stream 0: <Stream: itag=\"18\" mime_type=\"video/mp4\" res=\"360p\" fps=\"30fps\" vcodec=\"avc1.42001E\" acodec=\"mp4a.40.2\" progressive=\"True\" type=\"video\">\n",
      "stream 1: <Stream: itag=\"22\" mime_type=\"video/mp4\" res=\"720p\" fps=\"30fps\" vcodec=\"avc1.64001F\" acodec=\"mp4a.40.2\" progressive=\"True\" type=\"video\">\n",
      "Downloading.............數位人才探索計劃 Fast Pass Training｜7/08 場次\n",
      "Successfully downloaded 數位人才探索計劃 Fast Pass Training｜7/08 場次 \n",
      "\n"
     ]
    }
   ],
   "source": [
    "from pytube import YouTube\n",
    "\n",
    "youtube_links = [\n",
    "    'https://www.youtube.com/watch?v=jMDqRmO_JQQ',\n",
    "    'https://www.youtube.com/watch?v=SSgXtKzvl_0',\n",
    "    'https://www.youtube.com/watch?v=bXXv43vU_lU',\n",
    "    'https://www.youtube.com/watch?v=bbbLfejA55E'\n",
    "]\n",
    "\n",
    "for l in youtube_links:\n",
    "    yt = YouTube(l)\n",
    "    print(yt.title)\n",
    "    for i, stream in enumerate(yt.streams.filter(progressive=True, file_extension='mp4').order_by('resolution')):\n",
    "        print(f\"stream {i}: {stream}\")\n",
    "    print(f\"Downloading.............{yt.title}\")\n",
    "    yt.streams.filter(progressive=True, file_extension='mp4').order_by('resolution').first().download('D:\\\\tmpdata')\n",
    "    print(f\"Successfully downloaded {yt.title} \\n\")"
   ]
  },
  {
   "cell_type": "markdown",
   "metadata": {},
   "source": [
    "---"
   ]
  },
  {
   "cell_type": "markdown",
   "metadata": {},
   "source": [
    "## Reference\n",
    "- [pytube3-doc](https://python-pytube.readthedocs.io/en/latest/)\n",
    "- [add logic to detect occurences of signatureCipher in stream_data formats #631](https://github.com/nficano/pytube/pull/631)\n",
    "- [KeyError: 'cipher' #642](https://github.com/nficano/pytube/issues/642)\n",
    "- [cipher regex error #392](https://github.com/nficano/pytube/issues/392)\n"
   ]
  }
 ],
 "metadata": {
  "kernelspec": {
   "display_name": "Python 3",
   "language": "python",
   "name": "python3"
  },
  "language_info": {
   "codemirror_mode": {
    "name": "ipython",
    "version": 3
   },
   "file_extension": ".py",
   "mimetype": "text/x-python",
   "name": "python",
   "nbconvert_exporter": "python",
   "pygments_lexer": "ipython3",
   "version": "3.8.2"
  }
 },
 "nbformat": 4,
 "nbformat_minor": 4
}
